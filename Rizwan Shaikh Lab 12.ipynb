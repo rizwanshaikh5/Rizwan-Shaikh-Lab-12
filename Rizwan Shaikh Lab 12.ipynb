{
 "cells": [
  {
   "cell_type": "markdown",
   "metadata": {},
   "source": [
    "Program 1"
   ]
  },
  {
   "cell_type": "code",
   "execution_count": 1,
   "metadata": {},
   "outputs": [
    {
     "name": "stdout",
     "output_type": "stream",
     "text": [
      "[0, 12, 24, 36, 48, 60, 72, 84, 96, 108, 120, 132, 144]\n"
     ]
    }
   ],
   "source": [
    "lis = []\n",
    "for i in range(145):\n",
    "    lis.append(i)\n",
    "final_lis = list(filter(lambda x: x%12==0, lis))\n",
    "print(final_lis)"
   ]
  },
  {
   "cell_type": "markdown",
   "metadata": {},
   "source": [
    "Program 2"
   ]
  },
  {
   "cell_type": "code",
   "execution_count": 2,
   "metadata": {},
   "outputs": [
    {
     "name": "stdout",
     "output_type": "stream",
     "text": [
      "[1, 8, 4, 6]\n",
      "[-3, -2, -5, -7]\n"
     ]
    }
   ],
   "source": [
    "A = [1, -3, -2, 8, 4, -5, 6, -7]\n",
    "B = []\n",
    "C = []\n",
    "for x in A:\n",
    "    if (x >= 0):\n",
    "        B.append(x)\n",
    "    else:\n",
    "        C.append(x)\n",
    "print(B)\n",
    "print(C)"
   ]
  },
  {
   "cell_type": "markdown",
   "metadata": {},
   "source": [
    "Program 3"
   ]
  },
  {
   "cell_type": "code",
   "execution_count": 3,
   "metadata": {},
   "outputs": [
    {
     "name": "stdout",
     "output_type": "stream",
     "text": [
      "[14, 28, 42, 56, 70, 84, 98]\n"
     ]
    }
   ],
   "source": [
    "result = []\n",
    "for value in range(1,100):\n",
    "    if value % 2 == 0 and value % 7 == 0 and value >=5:\n",
    "        result.append(value)\n",
    "print(result)"
   ]
  },
  {
   "cell_type": "markdown",
   "metadata": {},
   "source": [
    "Program 4"
   ]
  },
  {
   "cell_type": "code",
   "execution_count": 4,
   "metadata": {},
   "outputs": [
    {
     "name": "stdout",
     "output_type": "stream",
     "text": [
      "Original List: [[10, 20, 30, 40], [50, 60, 70, 80], [90, 100, 110, 120], [130, 140, 150, 160]]\n",
      "\n",
      "Collapse nested lists: [10, 20, 30, 40, 50, 60, 70, 80, 90, 100, 110, 120, 130, 140, 150, 160]\n"
     ]
    }
   ],
   "source": [
    "nums = [\n",
    "    [10, 20, 30, 40],\n",
    "    [50, 60, 70, 80],\n",
    "    [90, 100, 110, 120],\n",
    "    [130, 140, 150, 160]\n",
    "]\n",
    "print(\"Original List:\",nums)\n",
    "result = []\n",
    "for sublist in nums:\n",
    "    for item in sublist:\n",
    "        result.append(item)\n",
    "print(\"\\nCollapse nested lists:\",result)"
   ]
  },
  {
   "cell_type": "markdown",
   "metadata": {},
   "source": [
    "Program 5"
   ]
  },
  {
   "cell_type": "code",
   "execution_count": 5,
   "metadata": {},
   "outputs": [
    {
     "name": "stdout",
     "output_type": "stream",
     "text": [
      "filter extracts each element in the sequence for which the function returns True.\n",
      "[5, 7, 55, 87, 5, 43, 73]\n",
      "\n",
      "The map function is the simplest one among Python built-ins used for functional programming.\n",
      "[True, True, True, False, False, True, False, True, True, True]\n",
      "\n",
      "The reduce function will transform a given list into a single value by applying a given function continuously to all the elements.\n",
      "407\n"
     ]
    }
   ],
   "source": [
    "print('filter extracts each element in the sequence for which the function returns True.')\n",
    "li = [5,7,55,66,44,87,22,5,43,73]\n",
    "final_list1 = list(filter(lambda x: (x%2 != 0), li))\n",
    "print(final_list1)\n",
    "print()\n",
    "print('The map function is the simplest one among Python built-ins used for functional programming.')\n",
    "final_list3 = list(map(lambda x: (x%2 != 0), li))\n",
    "print(final_list3)\n",
    "print()\n",
    "print('The reduce function will transform a given list into a single value by applying a given function continuously to all the elements.')\n",
    "from functools import reduce\n",
    "final_list2 = reduce(lambda x,y: x+y, li)\n",
    "print(final_list2)"
   ]
  },
  {
   "cell_type": "markdown",
   "metadata": {},
   "source": [
    "Program 6"
   ]
  },
  {
   "cell_type": "code",
   "execution_count": 6,
   "metadata": {},
   "outputs": [
    {
     "name": "stdout",
     "output_type": "stream",
     "text": [
      "Enter the number you want table of : 19\n",
      "19 X 1 = 19\n",
      "19 X 2 = 38\n",
      "19 X 3 = 57\n",
      "19 X 4 = 76\n",
      "19 X 5 = 95\n",
      "19 X 6 = 114\n",
      "19 X 7 = 133\n",
      "19 X 8 = 152\n",
      "19 X 9 = 171\n",
      "19 X 10 = 190\n"
     ]
    }
   ],
   "source": [
    "def table(n):  \n",
    "    return lambda a:a*n\n",
    "n = int(input(\"Enter the number you want table of : \"))  \n",
    "b = table(n) \n",
    "for i in range(1,11):  \n",
    "    print(n,\"X\",i,\"=\",b(i))  "
   ]
  }
 ],
 "metadata": {
  "kernelspec": {
   "display_name": "Python 3",
   "language": "python",
   "name": "python3"
  },
  "language_info": {
   "codemirror_mode": {
    "name": "ipython",
    "version": 3
   },
   "file_extension": ".py",
   "mimetype": "text/x-python",
   "name": "python",
   "nbconvert_exporter": "python",
   "pygments_lexer": "ipython3",
   "version": "3.7.4"
  }
 },
 "nbformat": 4,
 "nbformat_minor": 2
}
